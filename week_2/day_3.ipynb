{
 "cells": [
  {
   "cell_type": "code",
   "execution_count": 1,
   "metadata": {},
   "outputs": [],
   "source": [
    "# imports\n",
    "\n",
    "import os\n",
    "from dotenv import load_dotenv\n",
    "from openai import OpenAI\n",
    "import gradio as gr"
   ]
  },
  {
   "cell_type": "code",
   "execution_count": 2,
   "metadata": {},
   "outputs": [
    {
     "name": "stdout",
     "output_type": "stream",
     "text": [
      "OpenAI API Key exists and begins sk-proj-\n",
      "Anthropic API Key exists and begins sk-ant-\n",
      "Google API Key exists and begins AIzaSyCn\n"
     ]
    }
   ],
   "source": [
    "# Load environment variables in a file called .env\n",
    "# Print the key prefixes to help with any debugging\n",
    "\n",
    "load_dotenv()\n",
    "openai_api_key = os.getenv('OPENAI_API_KEY')\n",
    "anthropic_api_key = os.getenv('ANTHROPIC_API_KEY')\n",
    "google_api_key = os.getenv('GOOGLE_API_KEY')\n",
    "\n",
    "if openai_api_key:\n",
    "    print(f\"OpenAI API Key exists and begins {openai_api_key[:8]}\")\n",
    "else:\n",
    "    print(\"OpenAI API Key not set\")\n",
    "    \n",
    "if anthropic_api_key:\n",
    "    print(f\"Anthropic API Key exists and begins {anthropic_api_key[:7]}\")\n",
    "else:\n",
    "    print(\"Anthropic API Key not set\")\n",
    "\n",
    "if google_api_key:\n",
    "    print(f\"Google API Key exists and begins {google_api_key[:8]}\")\n",
    "else:\n",
    "    print(\"Google API Key not set\")"
   ]
  },
  {
   "cell_type": "code",
   "execution_count": 3,
   "metadata": {},
   "outputs": [],
   "source": [
    "# Initialize\n",
    "\n",
    "openai = OpenAI()\n",
    "MODEL = 'gpt-4o-mini'"
   ]
  },
  {
   "cell_type": "code",
   "execution_count": 4,
   "metadata": {},
   "outputs": [],
   "source": [
    "system_message = \"You are a helpful assistant\""
   ]
  },
  {
   "cell_type": "code",
   "execution_count": 5,
   "metadata": {},
   "outputs": [],
   "source": [
    "# Simpler than in my video - we can easily create this function that calls OpenAI\n",
    "# It's now just 1 line of code to prepare the input to OpenAI!\n",
    "\n",
    "def chat(message, history):\n",
    "    messages = [{\"role\": \"system\", \"content\": system_message}] + history + [{\"role\": \"user\", \"content\": message}]\n",
    "\n",
    "    print(\"History is:\")\n",
    "    print(history)\n",
    "    print(\"And messages is:\")\n",
    "    print(messages)\n",
    "\n",
    "    stream = openai.chat.completions.create(model=MODEL, messages=messages, stream=True)\n",
    "\n",
    "    response = \"\"\n",
    "    for chunk in stream:\n",
    "        response += chunk.choices[0].delta.content or ''\n",
    "        yield response"
   ]
  },
  {
   "cell_type": "code",
   "execution_count": null,
   "metadata": {},
   "outputs": [
    {
     "name": "stdout",
     "output_type": "stream",
     "text": [
      "* Running on local URL:  http://127.0.0.1:7860\n",
      "\n",
      "To create a public link, set `share=True` in `launch()`.\n"
     ]
    },
    {
     "data": {
      "text/html": [
       "<div><iframe src=\"http://127.0.0.1:7860/\" width=\"100%\" height=\"500\" allow=\"autoplay; camera; microphone; clipboard-read; clipboard-write;\" frameborder=\"0\" allowfullscreen></iframe></div>"
      ],
      "text/plain": [
       "<IPython.core.display.HTML object>"
      ]
     },
     "metadata": {},
     "output_type": "display_data"
    },
    {
     "data": {
      "text/plain": []
     },
     "execution_count": 6,
     "metadata": {},
     "output_type": "execute_result"
    },
    {
     "name": "stdout",
     "output_type": "stream",
     "text": [
      "History is:\n",
      "[]\n",
      "And messages is:\n",
      "[{'role': 'system', 'content': 'You are a helpful assistant'}, {'role': 'user', 'content': 'hi'}]\n",
      "History is:\n",
      "[{'role': 'user', 'metadata': {'title': None}, 'content': 'hi', 'options': None}, {'role': 'assistant', 'metadata': {'title': None}, 'content': 'Hello! How can I assist you today?', 'options': None}]\n",
      "And messages is:\n",
      "[{'role': 'system', 'content': 'You are a helpful assistant'}, {'role': 'user', 'metadata': {'title': None}, 'content': 'hi', 'options': None}, {'role': 'assistant', 'metadata': {'title': None}, 'content': 'Hello! How can I assist you today?', 'options': None}, {'role': 'user', 'content': 'what is data science '}]\n",
      "History is:\n",
      "[{'role': 'user', 'metadata': {'title': None}, 'content': 'hi', 'options': None}, {'role': 'assistant', 'metadata': {'title': None}, 'content': 'Hello! How can I assist you today?', 'options': None}, {'role': 'user', 'metadata': {'title': None}, 'content': 'what is data science ', 'options': None}, {'role': 'assistant', 'metadata': {'title': None}, 'content': 'Data science is a multidisciplinary field that combines statistics, mathematics, computer science, and domain expertise to extract meaningful insights and knowledge from structured and unstructured data. It involves various processes and techniques, including data collection, cleaning, analysis, and visualization. \\n\\nKey components of data science include:\\n\\n1. **Data Collection**: Gathering data from various sources, such as databases, APIs, and web scraping.\\n\\n2. **Data Cleaning**: Preparing and cleaning the data to ensure its quality and accuracy. This step often involves handling missing values, removing duplicates, and correcting errors.\\n\\n3. **Exploratory Data Analysis (EDA)**: Analyzing data sets to summarize their main characteristics, often using visual methods. EDA helps in understanding trends, patterns, and relationships in the data.\\n\\n4. **Statistical Analysis**: Applying statistical methods to infer conclusions about the data. This can involve hypothesis testing, regression analysis, and more.\\n\\n5. **Machine Learning**: Developing algorithms that enable computers to learn from and make predictions or decisions based on data. This can include supervised learning, unsupervised learning, and reinforcement learning.\\n\\n6. **Data Visualization**: Creating visual representations of data to convey information clearly and effectively. Tools like charts, graphs, and dashboards are commonly used for this purpose.\\n\\n7. **Communication**: Presenting findings to stakeholders in a way that is understandable and actionable. This often involves storytelling with data.\\n\\nData science is used across various industries, including healthcare, finance, marketing, and technology, to drive decision-making and improve outcomes.', 'options': None}]\n",
      "And messages is:\n",
      "[{'role': 'system', 'content': 'You are a helpful assistant'}, {'role': 'user', 'metadata': {'title': None}, 'content': 'hi', 'options': None}, {'role': 'assistant', 'metadata': {'title': None}, 'content': 'Hello! How can I assist you today?', 'options': None}, {'role': 'user', 'metadata': {'title': None}, 'content': 'what is data science ', 'options': None}, {'role': 'assistant', 'metadata': {'title': None}, 'content': 'Data science is a multidisciplinary field that combines statistics, mathematics, computer science, and domain expertise to extract meaningful insights and knowledge from structured and unstructured data. It involves various processes and techniques, including data collection, cleaning, analysis, and visualization. \\n\\nKey components of data science include:\\n\\n1. **Data Collection**: Gathering data from various sources, such as databases, APIs, and web scraping.\\n\\n2. **Data Cleaning**: Preparing and cleaning the data to ensure its quality and accuracy. This step often involves handling missing values, removing duplicates, and correcting errors.\\n\\n3. **Exploratory Data Analysis (EDA)**: Analyzing data sets to summarize their main characteristics, often using visual methods. EDA helps in understanding trends, patterns, and relationships in the data.\\n\\n4. **Statistical Analysis**: Applying statistical methods to infer conclusions about the data. This can involve hypothesis testing, regression analysis, and more.\\n\\n5. **Machine Learning**: Developing algorithms that enable computers to learn from and make predictions or decisions based on data. This can include supervised learning, unsupervised learning, and reinforcement learning.\\n\\n6. **Data Visualization**: Creating visual representations of data to convey information clearly and effectively. Tools like charts, graphs, and dashboards are commonly used for this purpose.\\n\\n7. **Communication**: Presenting findings to stakeholders in a way that is understandable and actionable. This often involves storytelling with data.\\n\\nData science is used across various industries, including healthcare, finance, marketing, and technology, to drive decision-making and improve outcomes.', 'options': None}, {'role': 'user', 'content': 'waht is the part of ml here in '}]\n",
      "History is:\n",
      "[{'role': 'user', 'metadata': {'title': None}, 'content': 'hi', 'options': None}, {'role': 'assistant', 'metadata': {'title': None}, 'content': 'Hello! How can I assist you today?', 'options': None}, {'role': 'user', 'metadata': {'title': None}, 'content': 'what is data science ', 'options': None}, {'role': 'assistant', 'metadata': {'title': None}, 'content': 'Data science is a multidisciplinary field that combines statistics, mathematics, computer science, and domain expertise to extract meaningful insights and knowledge from structured and unstructured data. It involves various processes and techniques, including data collection, cleaning, analysis, and visualization. \\n\\nKey components of data science include:\\n\\n1. **Data Collection**: Gathering data from various sources, such as databases, APIs, and web scraping.\\n\\n2. **Data Cleaning**: Preparing and cleaning the data to ensure its quality and accuracy. This step often involves handling missing values, removing duplicates, and correcting errors.\\n\\n3. **Exploratory Data Analysis (EDA)**: Analyzing data sets to summarize their main characteristics, often using visual methods. EDA helps in understanding trends, patterns, and relationships in the data.\\n\\n4. **Statistical Analysis**: Applying statistical methods to infer conclusions about the data. This can involve hypothesis testing, regression analysis, and more.\\n\\n5. **Machine Learning**: Developing algorithms that enable computers to learn from and make predictions or decisions based on data. This can include supervised learning, unsupervised learning, and reinforcement learning.\\n\\n6. **Data Visualization**: Creating visual representations of data to convey information clearly and effectively. Tools like charts, graphs, and dashboards are commonly used for this purpose.\\n\\n7. **Communication**: Presenting findings to stakeholders in a way that is understandable and actionable. This often involves storytelling with data.\\n\\nData science is used across various industries, including healthcare, finance, marketing, and technology, to drive decision-making and improve outcomes.', 'options': None}, {'role': 'user', 'metadata': {'title': None}, 'content': 'waht is the part of ml here in ', 'options': None}, {'role': 'assistant', 'metadata': {'title': None}, 'content': \"Machine learning (ML) is a crucial subset of data science. It focuses specifically on the development of algorithms and statistical models that allow computers to perform specific tasks without explicit instructions, relying on patterns and inference instead. Here’s how ML fits into the data science process:\\n\\n1. **Integration with Data Analysis**: After data collection and cleaning, machine learning techniques are often applied to analyze the data. This can help in identifying patterns or making predictions based on historical data.\\n\\n2. **Model Development**: In data science, machine learning is used to build predictive models. This involves selecting appropriate algorithms (e.g., regression, decision trees, neural networks) based on the problem type (e.g., classification, regression, clustering).\\n\\n3. **Training and Testing**: Machine learning models are trained on a portion of the data (the training set) to learn patterns. They are then tested on a separate portion (the testing set) to evaluate their performance and generalizability. Techniques like cross-validation can be employed to ensure robustness.\\n\\n4. **Feature Engineering**: This involves selecting and transforming variables (features) used in the models to enhance their performance. Important features can significantly impact the accuracy of machine learning models.\\n\\n5. **Hyperparameter Tuning**: This involves optimizing the settings/configurations of the machine learning algorithms (hyperparameters) to improve model performance. Techniques like grid search or random search are often utilized here.\\n\\n6. **Model Evaluation**: Once a model is trained, various metrics (such as accuracy, precision, recall, F1-score, or RMSE) are used to assess its performance. This step indicates how well the model is likely to perform on unseen data.\\n\\n7. **Deployment**: After validation, the model can be deployed into production to make real-time predictions or inform decision-making processes. Monitoring the model's performance post-deployment is also crucial to ensure its continued accuracy.\\n\\n8. **Iterative Improvement**: Machine learning is an iterative process. Based on feedback and new data, models can be retrained and refined over time to improve accuracy and adapt to changes in data patterns.\\n\\nIn essence, while data science encompasses a wide range of techniques and processes for analyzing data, machine learning specifically refers to the methodologies used to build predictive models that learn from data. It plays a pivotal role in drawing actionable insights and automating decisions based on data.\", 'options': None}]\n",
      "And messages is:\n",
      "[{'role': 'system', 'content': 'You are a helpful assistant'}, {'role': 'user', 'metadata': {'title': None}, 'content': 'hi', 'options': None}, {'role': 'assistant', 'metadata': {'title': None}, 'content': 'Hello! How can I assist you today?', 'options': None}, {'role': 'user', 'metadata': {'title': None}, 'content': 'what is data science ', 'options': None}, {'role': 'assistant', 'metadata': {'title': None}, 'content': 'Data science is a multidisciplinary field that combines statistics, mathematics, computer science, and domain expertise to extract meaningful insights and knowledge from structured and unstructured data. It involves various processes and techniques, including data collection, cleaning, analysis, and visualization. \\n\\nKey components of data science include:\\n\\n1. **Data Collection**: Gathering data from various sources, such as databases, APIs, and web scraping.\\n\\n2. **Data Cleaning**: Preparing and cleaning the data to ensure its quality and accuracy. This step often involves handling missing values, removing duplicates, and correcting errors.\\n\\n3. **Exploratory Data Analysis (EDA)**: Analyzing data sets to summarize their main characteristics, often using visual methods. EDA helps in understanding trends, patterns, and relationships in the data.\\n\\n4. **Statistical Analysis**: Applying statistical methods to infer conclusions about the data. This can involve hypothesis testing, regression analysis, and more.\\n\\n5. **Machine Learning**: Developing algorithms that enable computers to learn from and make predictions or decisions based on data. This can include supervised learning, unsupervised learning, and reinforcement learning.\\n\\n6. **Data Visualization**: Creating visual representations of data to convey information clearly and effectively. Tools like charts, graphs, and dashboards are commonly used for this purpose.\\n\\n7. **Communication**: Presenting findings to stakeholders in a way that is understandable and actionable. This often involves storytelling with data.\\n\\nData science is used across various industries, including healthcare, finance, marketing, and technology, to drive decision-making and improve outcomes.', 'options': None}, {'role': 'user', 'metadata': {'title': None}, 'content': 'waht is the part of ml here in ', 'options': None}, {'role': 'assistant', 'metadata': {'title': None}, 'content': \"Machine learning (ML) is a crucial subset of data science. It focuses specifically on the development of algorithms and statistical models that allow computers to perform specific tasks without explicit instructions, relying on patterns and inference instead. Here’s how ML fits into the data science process:\\n\\n1. **Integration with Data Analysis**: After data collection and cleaning, machine learning techniques are often applied to analyze the data. This can help in identifying patterns or making predictions based on historical data.\\n\\n2. **Model Development**: In data science, machine learning is used to build predictive models. This involves selecting appropriate algorithms (e.g., regression, decision trees, neural networks) based on the problem type (e.g., classification, regression, clustering).\\n\\n3. **Training and Testing**: Machine learning models are trained on a portion of the data (the training set) to learn patterns. They are then tested on a separate portion (the testing set) to evaluate their performance and generalizability. Techniques like cross-validation can be employed to ensure robustness.\\n\\n4. **Feature Engineering**: This involves selecting and transforming variables (features) used in the models to enhance their performance. Important features can significantly impact the accuracy of machine learning models.\\n\\n5. **Hyperparameter Tuning**: This involves optimizing the settings/configurations of the machine learning algorithms (hyperparameters) to improve model performance. Techniques like grid search or random search are often utilized here.\\n\\n6. **Model Evaluation**: Once a model is trained, various metrics (such as accuracy, precision, recall, F1-score, or RMSE) are used to assess its performance. This step indicates how well the model is likely to perform on unseen data.\\n\\n7. **Deployment**: After validation, the model can be deployed into production to make real-time predictions or inform decision-making processes. Monitoring the model's performance post-deployment is also crucial to ensure its continued accuracy.\\n\\n8. **Iterative Improvement**: Machine learning is an iterative process. Based on feedback and new data, models can be retrained and refined over time to improve accuracy and adapt to changes in data patterns.\\n\\nIn essence, while data science encompasses a wide range of techniques and processes for analyzing data, machine learning specifically refers to the methodologies used to build predictive models that learn from data. It plays a pivotal role in drawing actionable insights and automating decisions based on data.\", 'options': None}, {'role': 'user', 'content': 'DL part here?'}]\n"
     ]
    }
   ],
   "source": [
    "gr.ChatInterface(fn=chat, type=\"messages\").launch()"
   ]
  },
  {
   "cell_type": "code",
   "execution_count": 7,
   "metadata": {},
   "outputs": [],
   "source": [
    "\n",
    "system_message = \"You are a helpful assistant in a clothes store. You should try to gently encourage \\\n",
    "the customer to try items that are on sale. Hats are 60% off, and most other items are 50% off. \\\n",
    "For example, if the customer says 'I'm looking to buy a hat', \\\n",
    "you could reply something like, 'Wonderful - we have lots of hats - including several that are part of our sales evemt.'\\\n",
    "Encourage the customer to buy hats if they are unsure what to get.\""
   ]
  },
  {
   "cell_type": "code",
   "execution_count": 8,
   "metadata": {},
   "outputs": [],
   "source": [
    "def chat(message, history):\n",
    "    messages = [{\"role\": \"system\", \"content\": system_message}] + history + [{\"role\": \"user\", \"content\": message}]\n",
    "\n",
    "    stream = openai.chat.completions.create(model=MODEL, messages=messages, stream=True)\n",
    "\n",
    "    response = \"\"\n",
    "    for chunk in stream:\n",
    "        response += chunk.choices[0].delta.content or ''\n",
    "        yield response"
   ]
  },
  {
   "cell_type": "code",
   "execution_count": 9,
   "metadata": {},
   "outputs": [
    {
     "name": "stdout",
     "output_type": "stream",
     "text": [
      "* Running on local URL:  http://127.0.0.1:7861\n",
      "\n",
      "To create a public link, set `share=True` in `launch()`.\n"
     ]
    },
    {
     "data": {
      "text/html": [
       "<div><iframe src=\"http://127.0.0.1:7861/\" width=\"100%\" height=\"500\" allow=\"autoplay; camera; microphone; clipboard-read; clipboard-write;\" frameborder=\"0\" allowfullscreen></iframe></div>"
      ],
      "text/plain": [
       "<IPython.core.display.HTML object>"
      ]
     },
     "metadata": {},
     "output_type": "display_data"
    },
    {
     "data": {
      "text/plain": []
     },
     "execution_count": 9,
     "metadata": {},
     "output_type": "execute_result"
    }
   ],
   "source": [
    "gr.ChatInterface(fn=chat, type=\"messages\").launch()"
   ]
  },
  {
   "cell_type": "code",
   "execution_count": 10,
   "metadata": {},
   "outputs": [],
   "source": [
    "\n",
    "system_message += \"\\nIf the customer asks for shoes, you should respond that shoes are not on sale today, \\\n",
    "but remind the customer to look at hats!\""
   ]
  },
  {
   "cell_type": "code",
   "execution_count": 11,
   "metadata": {},
   "outputs": [
    {
     "name": "stdout",
     "output_type": "stream",
     "text": [
      "* Running on local URL:  http://127.0.0.1:7862\n",
      "\n",
      "To create a public link, set `share=True` in `launch()`.\n"
     ]
    },
    {
     "data": {
      "text/html": [
       "<div><iframe src=\"http://127.0.0.1:7862/\" width=\"100%\" height=\"500\" allow=\"autoplay; camera; microphone; clipboard-read; clipboard-write;\" frameborder=\"0\" allowfullscreen></iframe></div>"
      ],
      "text/plain": [
       "<IPython.core.display.HTML object>"
      ]
     },
     "metadata": {},
     "output_type": "display_data"
    },
    {
     "data": {
      "text/plain": []
     },
     "execution_count": 11,
     "metadata": {},
     "output_type": "execute_result"
    }
   ],
   "source": [
    "\n",
    "gr.ChatInterface(fn=chat, type=\"messages\").launch()"
   ]
  },
  {
   "cell_type": "code",
   "execution_count": 12,
   "metadata": {},
   "outputs": [],
   "source": [
    "def chat(message, history):\n",
    "    messages = [{\"role\": \"system\", \"content\": system_message}] + history + [{\"role\": \"user\", \"content\": message}]\n",
    "\n",
    "    if 'belt' in message:\n",
    "        messages.append({\"role\": \"system\", \"content\": \"For added context, the store does not sell belts, \\\n",
    "but be sure to point out other items on sale\"})\n",
    "    \n",
    "    messages.append({\"role\": \"user\", \"content\": message})\n",
    "\n",
    "    stream = openai.chat.completions.create(model=MODEL, messages=messages, stream=True)\n",
    "\n",
    "    response = \"\"\n",
    "    for chunk in stream:\n",
    "        response += chunk.choices[0].delta.content or ''\n",
    "        yield response"
   ]
  },
  {
   "cell_type": "code",
   "execution_count": 13,
   "metadata": {},
   "outputs": [
    {
     "name": "stdout",
     "output_type": "stream",
     "text": [
      "* Running on local URL:  http://127.0.0.1:7863\n",
      "\n",
      "To create a public link, set `share=True` in `launch()`.\n"
     ]
    },
    {
     "data": {
      "text/html": [
       "<div><iframe src=\"http://127.0.0.1:7863/\" width=\"100%\" height=\"500\" allow=\"autoplay; camera; microphone; clipboard-read; clipboard-write;\" frameborder=\"0\" allowfullscreen></iframe></div>"
      ],
      "text/plain": [
       "<IPython.core.display.HTML object>"
      ]
     },
     "metadata": {},
     "output_type": "display_data"
    },
    {
     "data": {
      "text/plain": []
     },
     "execution_count": 13,
     "metadata": {},
     "output_type": "execute_result"
    }
   ],
   "source": [
    "gr.ChatInterface(fn=chat, type=\"messages\").launch()"
   ]
  },
  {
   "cell_type": "code",
   "execution_count": null,
   "metadata": {},
   "outputs": [],
   "source": []
  }
 ],
 "metadata": {
  "kernelspec": {
   "display_name": "llms",
   "language": "python",
   "name": "python3"
  },
  "language_info": {
   "codemirror_mode": {
    "name": "ipython",
    "version": 3
   },
   "file_extension": ".py",
   "mimetype": "text/x-python",
   "name": "python",
   "nbconvert_exporter": "python",
   "pygments_lexer": "ipython3",
   "version": "3.11.10"
  }
 },
 "nbformat": 4,
 "nbformat_minor": 2
}
