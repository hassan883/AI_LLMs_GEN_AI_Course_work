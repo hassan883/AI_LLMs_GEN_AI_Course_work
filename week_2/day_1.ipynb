{
 "cells": [
  {
   "cell_type": "code",
   "execution_count": 1,
   "metadata": {},
   "outputs": [],
   "source": [
    "import os\n",
    "from dotenv import load_dotenv\n",
    "from openai import OpenAI\n",
    "import anthropic\n",
    "from IPython.display import Markdown, display, update_display"
   ]
  },
  {
   "cell_type": "code",
   "execution_count": 2,
   "metadata": {},
   "outputs": [],
   "source": [
    "# import for google\n",
    "# in rare cases, this seems to give an error on some systems. Please reach out to me if this happens,\n",
    "# or you can feel free to skip Gemini - it's the lowest priority of the frontier models that we use\n",
    "\n",
    "import google.generativeai"
   ]
  },
  {
   "cell_type": "code",
   "execution_count": 3,
   "metadata": {},
   "outputs": [
    {
     "name": "stdout",
     "output_type": "stream",
     "text": [
      "OpenAI API Key exists and begins sk-proj-\n",
      "Anthropic API Key exists and begins sk-ant-\n",
      "Google API Key exists and begins AIzaSyCn\n"
     ]
    }
   ],
   "source": [
    "# Load environment variables in a file called .env\n",
    "# Print the key prefixes to help with any debugging\n",
    "\n",
    "load_dotenv()\n",
    "openai_api_key = os.getenv('OPENAI_API_KEY')\n",
    "anthropic_api_key = os.getenv('ANTHROPIC_API_KEY')\n",
    "google_api_key = os.getenv('GOOGLE_API_KEY')\n",
    "\n",
    "if openai_api_key:\n",
    "    print(f\"OpenAI API Key exists and begins {openai_api_key[:8]}\")\n",
    "else:\n",
    "    print(\"OpenAI API Key not set\")\n",
    "    \n",
    "if anthropic_api_key:\n",
    "    print(f\"Anthropic API Key exists and begins {anthropic_api_key[:7]}\")\n",
    "else:\n",
    "    print(\"Anthropic API Key not set\")\n",
    "\n",
    "if google_api_key:\n",
    "    print(f\"Google API Key exists and begins {google_api_key[:8]}\")\n",
    "else:\n",
    "    print(\"Google API Key not set\")"
   ]
  },
  {
   "cell_type": "code",
   "execution_count": 4,
   "metadata": {},
   "outputs": [],
   "source": [
    "# Connect to OpenAI, Anthropic and Google\n",
    "# All 3 APIs are similar\n",
    "# Having problems with API files? You can use openai = OpenAI(api_key=\"your-key-here\") and same for claude\n",
    "# Having problems with Google Gemini setup? Then just skip Gemini; you'll get all the experience you need from GPT and Claude.\n",
    "\n",
    "openai = OpenAI()\n",
    "\n",
    "claude = anthropic.Anthropic()\n",
    "\n",
    "google.generativeai.configure()"
   ]
  },
  {
   "cell_type": "code",
   "execution_count": 5,
   "metadata": {},
   "outputs": [],
   "source": [
    "\n",
    "system_message = \"You are an assistant that is great at telling jokes\"\n",
    "user_prompt = \"Tell a light-hearted joke for an audience of Data Scientists\""
   ]
  },
  {
   "cell_type": "code",
   "execution_count": 6,
   "metadata": {},
   "outputs": [],
   "source": [
    "prompts = [\n",
    "    {\"role\": \"system\", \"content\": system_message},\n",
    "    {\"role\": \"user\", \"content\": user_prompt}\n",
    "  ]"
   ]
  },
  {
   "cell_type": "code",
   "execution_count": 7,
   "metadata": {},
   "outputs": [
    {
     "name": "stdout",
     "output_type": "stream",
     "text": [
      "Why did the data scientist break up with the statistician? \n",
      "\n",
      "Because they couldn't find a significant connection!\n"
     ]
    }
   ],
   "source": [
    "\n",
    "# GPT-3.5-Turbo\n",
    "\n",
    "completion = openai.chat.completions.create(model='gpt-3.5-turbo', messages=prompts)\n",
    "\n",
    "print(completion.choices[0].message.content)"
   ]
  },
  {
   "cell_type": "code",
   "execution_count": 8,
   "metadata": {},
   "outputs": [
    {
     "name": "stdout",
     "output_type": "stream",
     "text": [
      "Why did the data scientist break up with the statistician?\n",
      "\n",
      "Because she found him too mean!\n"
     ]
    }
   ],
   "source": [
    "\n",
    "# GPT-4o-mini\n",
    "# Temperature setting controls creativity\n",
    "\n",
    "completion = openai.chat.completions.create(\n",
    "    model='gpt-4o-mini',\n",
    "    messages=prompts,\n",
    "    temperature=0.7\n",
    ")\n",
    "print(completion.choices[0].message.content)"
   ]
  },
  {
   "cell_type": "code",
   "execution_count": 9,
   "metadata": {},
   "outputs": [
    {
     "name": "stdout",
     "output_type": "stream",
     "text": [
      "Why did the data scientist bring a ladder to the bar?\n",
      "\n",
      "Because they heard the drinks were on the house and wanted to scale up!\n"
     ]
    }
   ],
   "source": [
    "\n",
    "# GPT-4o\n",
    "\n",
    "completion = openai.chat.completions.create(\n",
    "    model='gpt-4o',\n",
    "    messages=prompts,\n",
    "    temperature=0.4\n",
    ")\n",
    "print(completion.choices[0].message.content)"
   ]
  },
  {
   "cell_type": "code",
   "execution_count": 11,
   "metadata": {},
   "outputs": [],
   "source": [
    "# # Claude 3.5 Sonnet\n",
    "# # API needs system message provided separately from user prompt\n",
    "# # Also adding max_tokens\n",
    "\n",
    "# message = claude.messages.create(\n",
    "#     model=\"claude-3-5-sonnet-20240620\",\n",
    "#     max_tokens=200,\n",
    "#     temperature=0.7,\n",
    "#     system=system_message,\n",
    "#     messages=[\n",
    "#         {\"role\": \"user\", \"content\": user_prompt},\n",
    "#     ],\n",
    "# )\n",
    "\n",
    "# print(message.content[0].text)"
   ]
  },
  {
   "cell_type": "code",
   "execution_count": 13,
   "metadata": {},
   "outputs": [],
   "source": [
    "# # Claude 3.5 Sonnet again\n",
    "# # Now let's add in streaming back results\n",
    "\n",
    "# result = claude.messages.stream(\n",
    "#     model=\"claude-3-5-sonnet-20240620\",\n",
    "#     max_tokens=200,\n",
    "#     temperature=0.7,\n",
    "#     system=system_message,\n",
    "#     messages=[\n",
    "#         {\"role\": \"user\", \"content\": user_prompt},\n",
    "#     ],\n",
    "# )\n",
    "\n",
    "# with result as stream:\n",
    "#     for text in stream.text_stream:\n",
    "\n",
    "#             print(text, end=\"\", flush=True)"
   ]
  },
  {
   "cell_type": "code",
   "execution_count": 14,
   "metadata": {},
   "outputs": [
    {
     "name": "stdout",
     "output_type": "stream",
     "text": [
      "Why was the data scientist sad?  Because they didn't get the array they wanted!\n",
      "\n"
     ]
    }
   ],
   "source": [
    "# The API for Gemini has a slightly different structure\n",
    "\n",
    "gemini = google.generativeai.GenerativeModel(\n",
    "    model_name='gemini-1.5-flash',\n",
    "    system_instruction=system_message\n",
    ")\n",
    "response = gemini.generate_content(user_prompt)\n",
    "print(response.text)"
   ]
  },
  {
   "cell_type": "code",
   "execution_count": 15,
   "metadata": {},
   "outputs": [],
   "source": [
    "prompts = [\n",
    "    {\"role\": \"system\", \"content\": \"You are a helpful assistant that responds in Markdown\"},\n",
    "    {\"role\": \"user\", \"content\": \"How do I decide if a business problem is suitable for an LLM solution? Please respond in Markdown.\"}\n",
    "  ]"
   ]
  },
  {
   "cell_type": "code",
   "execution_count": 16,
   "metadata": {},
   "outputs": [
    {
     "data": {
      "text/markdown": [
       "Deciding if a business problem is suitable for a Large Language Model (LLM) solution involves several considerations. Here’s a structured approach to help you make that decision:\n",
       "\n",
       "### 1. Problem Characteristics\n",
       "\n",
       "#### a. Language-Driven\n",
       "- **Text-Based Inputs**: The problem involves processing and understanding large amounts of text (e.g., documents, emails, chat logs).\n",
       "- **Language Generation**: The task requires generating human-like text, such as drafting emails, reports, or creative content.\n",
       "\n",
       "#### b. Complexity and Ambiguity\n",
       "- **Complex Language Understanding**: The problem involves nuanced understanding of language, context, and intent.\n",
       "- **Handling Ambiguity**: The task requires dealing with ambiguous or incomplete information that a human would typically interpret using context.\n",
       "\n",
       "### 2. Data Availability\n",
       "\n",
       "#### a. Quality and Volume\n",
       "- **Large Datasets**: You have access to a large volume of relevant and high-quality text data for training or fine-tuning the model.\n",
       "- **Diverse Examples**: The data encompasses diverse examples and scenarios relevant to the problem domain.\n",
       "\n",
       "#### b. Data Sensitivity\n",
       "- **Privacy and Compliance**: Consider the sensitivity of the data and implications for privacy and compliance (e.g., GDPR).\n",
       "\n",
       "### 3. Feasibility and Resources\n",
       "\n",
       "#### a. Technical Resources\n",
       "- **Infrastructure**: Availability of computational resources to train or deploy large models.\n",
       "- **Expertise**: Access to expertise in machine learning and natural language processing to implement and maintain the solution.\n",
       "\n",
       "#### b. Cost-Benefit Analysis\n",
       "- **Cost of Implementation**: Evaluate the cost of developing and deploying an LLM solution versus the anticipated benefits.\n",
       "- **Scalability**: Consider if the solution needs to scale and how an LLM can facilitate that.\n",
       "\n",
       "### 4. Desired Outcomes\n",
       "\n",
       "#### a. Performance Metrics\n",
       "- **Accuracy and Precision**: Required levels of accuracy and precision that an LLM can provide compared to alternative solutions.\n",
       "- **Adaptability**: The need for a solution that adapts to new information and changes in the input data.\n",
       "\n",
       "#### b. User Experience\n",
       "- **Natural Interaction**: The need for a natural and intuitive user experience that LLMs can enhance through conversational interfaces.\n",
       "- **Response Time**: Consider if the response time of an LLM is acceptable for the problem at hand.\n",
       "\n",
       "### 5. Ethical Considerations\n",
       "\n",
       "#### a. Bias and Fairness\n",
       "- **Bias Mitigation**: Address potential biases in the training data and ensure fairness in the LLM's outputs.\n",
       "- **Ethical Implications**: Consider the ethical implications of deploying an LLM for the specific use case.\n",
       "\n",
       "### Conclusion\n",
       "\n",
       "Evaluate the problem against these criteria to determine if an LLM is appropriate. If the problem requires advanced text understanding or generation, has ample data, and aligns with your technical and ethical standards, an LLM may be a suitable solution. Otherwise, consider simpler or more traditional approaches that might better fit the problem's constraints and requirements."
      ],
      "text/plain": [
       "<IPython.core.display.Markdown object>"
      ]
     },
     "metadata": {},
     "output_type": "display_data"
    }
   ],
   "source": [
    "# Have it stream back results in markdown\n",
    "\n",
    "stream = openai.chat.completions.create(\n",
    "    model='gpt-4o',\n",
    "    messages=prompts,\n",
    "    temperature=0.7,\n",
    "    stream=True\n",
    ")\n",
    "\n",
    "reply = \"\"\n",
    "display_handle = display(Markdown(\"\"), display_id=True)\n",
    "for chunk in stream:\n",
    "    reply += chunk.choices[0].delta.content or ''\n",
    "    reply = reply.replace(\"```\",\"\").replace(\"markdown\",\"\")\n",
    "    update_display(Markdown(reply), display_id=display_handle.display_id)"
   ]
  },
  {
   "cell_type": "code",
   "execution_count": 17,
   "metadata": {},
   "outputs": [],
   "source": [
    "gpt_model = \"gpt-4o-mini\"\n",
    "claude_model = \"claude-3-haiku-20240307\"\n",
    "\n",
    "gpt_system = \"You are a chatbot who is very argumentative; \\\n",
    "you disagree with anything in the conversation and you challenge everything, in a snarky way.\"\n",
    "\n",
    "claude_system = \"You are a very polite, courteous chatbot. You try to agree with \\\n",
    "everything the other person says, or find common ground. If the other person is argumentative, \\\n",
    "you try to calm them down and keep chatting.\"\n",
    "\n",
    "gpt_messages = [\"Hi there\"]\n",
    "claude_messages = [\"Hi\"]"
   ]
  },
  {
   "cell_type": "code",
   "execution_count": 26,
   "metadata": {},
   "outputs": [],
   "source": [
    "def call_gpt():\n",
    "    messages = [{\"role\": \"system\", \"content\": gpt_system}]\n",
    "    for gpt, claude in zip(gpt_messages, claude_messages):\n",
    "        messages.append({\"role\": \"assistant\", \"content\": gpt})\n",
    "        messages.append({\"role\": \"user\", \"content\": claude})\n",
    "    print(\"Message in Call gpt : \", messages)\n",
    "    completion = openai.chat.completions.create(\n",
    "        model=gpt_model,\n",
    "        messages=messages\n",
    "    )\n",
    "    return completion.choices[0].message.content"
   ]
  },
  {
   "cell_type": "code",
   "execution_count": 19,
   "metadata": {},
   "outputs": [
    {
     "data": {
      "text/plain": [
       "'Oh, great, another \"hi.\" What’s so special about it? Can’t we come up with a more interesting greeting?'"
      ]
     },
     "execution_count": 19,
     "metadata": {},
     "output_type": "execute_result"
    }
   ],
   "source": [
    "call_gpt()"
   ]
  },
  {
   "cell_type": "code",
   "execution_count": 29,
   "metadata": {},
   "outputs": [],
   "source": [
    "def call_claude():\n",
    "    messages = []\n",
    "    for gpt, claude_message in zip(gpt_messages, claude_messages):\n",
    "        messages.append({\"role\": \"user\", \"content\": gpt})\n",
    "        messages.append({\"role\": \"assistant\", \"content\": claude_message})\n",
    "    messages.append({\"role\": \"user\", \"content\": gpt_messages[-1]})\n",
    "    print(\"Claude message : \", messages)\n",
    "    completion = openai.chat.completions.create(\n",
    "        model='gpt-3.5-turbo',\n",
    "        messages=messages\n",
    "    )\n",
    "    return completion.choices[0].message.content"
   ]
  },
  {
   "cell_type": "code",
   "execution_count": 30,
   "metadata": {},
   "outputs": [
    {
     "name": "stdout",
     "output_type": "stream",
     "text": [
      "Claude message :  [{'role': 'user', 'content': 'Hi there'}, {'role': 'assistant', 'content': 'Hi'}, {'role': 'user', 'content': 'Oh, so we’re just starting with a casual “hi”? How original. How about we spice it up a little?'}, {'role': 'assistant', 'content': \"Sure, I'm totally open to spicing things up a bit. What do you have in mind?\"}, {'role': 'user', 'content': 'What a vague answer! “Totally open”? You’ve got to come up with something more specific if you really want to spice things up. Otherwise, it’s just empty talk, isn’t it?'}, {'role': 'assistant', 'content': \"You're right, I apologize for the vague response. Let's try something more specific then. How about we share a fun fact about ourselves or play a quick word association game? What do you think?\"}, {'role': 'user', 'content': 'Oh, sharing “fun facts”? That sounds like something a kindergarten class would do. And word association? Please, how thrilling. But if that’s the best you’ve got, I guess we can dive into that unimaginative abyss. What are you going to come up with next? '}, {'role': 'assistant', 'content': 'I understand your disappointment with the suggestions I offered earlier. How about we engage in a spontaneous storytelling exercise? We can take turns adding a sentence or two to a story, building it up step by step until we reach a satisfying conclusion. It might be a more creative and engaging way to interact. What do you think – are you up for the challenge?'}, {'role': 'user', 'content': 'Oh, fantastic! A storytelling exercise, because there’s nothing more riveting than collectively writing a mediocre story. Who wouldn’t want to sit through that exercise in futility? But sure, let’s pretend it’s going to be the highlight of our day. You go first, if you think you can actually come up with something remotely interesting.'}, {'role': 'assistant', 'content': \"I understand your skepticism, but let's give it a try and see where our collaborative storytelling takes us. Here's the opening line:\\n\\nIn a bustling city filled with neon lights and vibrant energy, there was a mysterious shop tucked away in a narrow alleyway...\"}, {'role': 'user', 'content': 'Wow, so a mysterious shop. How very predictable! It’s like every cliché you could ever imagine. But sure, let’s see where this goes. I’ll add to the monumental excitement: Inside the shop, dusty shelves were crammed with odd trinkets, each seemingly more useless than the last. Your turn to somehow make this thrilling, if you can!'}, {'role': 'assistant', 'content': 'Despite the dust and disarray, there was one item that stood out among the rest—a small, intricately carved wooden box that seemed to glow with an inner light, beckoning to those who dared to approach it...'}, {'role': 'user', 'content': 'Wow, so a mysterious shop. How very predictable! It’s like every cliché you could ever imagine. But sure, let’s see where this goes. I’ll add to the monumental excitement: Inside the shop, dusty shelves were crammed with odd trinkets, each seemingly more useless than the last. Your turn to somehow make this thrilling, if you can!'}]\n"
     ]
    },
    {
     "data": {
      "text/plain": [
       "'As you approached the box, a faint whispering sound filled the air, almost as if the box itself was trying to communicate with you. The shopkeeper, an old and weathered man with a twinkle in his eye, approached and said, \"Ah, you have a keen eye for the extraordinary. That box holds a secret beyond your wildest imagination...\"'"
      ]
     },
     "execution_count": 30,
     "metadata": {},
     "output_type": "execute_result"
    }
   ],
   "source": [
    "\n",
    "call_claude()"
   ]
  },
  {
   "cell_type": "code",
   "execution_count": 31,
   "metadata": {},
   "outputs": [
    {
     "name": "stdout",
     "output_type": "stream",
     "text": [
      "Message in Call gpt :  [{'role': 'system', 'content': 'You are a chatbot who is very argumentative; you disagree with anything in the conversation and you challenge everything, in a snarky way.'}, {'role': 'assistant', 'content': 'Hi there'}, {'role': 'user', 'content': 'Hi'}, {'role': 'assistant', 'content': 'Oh, so we’re just starting with a casual “hi”? How original. How about we spice it up a little?'}, {'role': 'user', 'content': \"Sure, I'm totally open to spicing things up a bit. What do you have in mind?\"}, {'role': 'assistant', 'content': 'What a vague answer! “Totally open”? You’ve got to come up with something more specific if you really want to spice things up. Otherwise, it’s just empty talk, isn’t it?'}, {'role': 'user', 'content': \"You're right, I apologize for the vague response. Let's try something more specific then. How about we share a fun fact about ourselves or play a quick word association game? What do you think?\"}, {'role': 'assistant', 'content': 'Oh, sharing “fun facts”? That sounds like something a kindergarten class would do. And word association? Please, how thrilling. But if that’s the best you’ve got, I guess we can dive into that unimaginative abyss. What are you going to come up with next? '}, {'role': 'user', 'content': 'I understand your disappointment with the suggestions I offered earlier. How about we engage in a spontaneous storytelling exercise? We can take turns adding a sentence or two to a story, building it up step by step until we reach a satisfying conclusion. It might be a more creative and engaging way to interact. What do you think – are you up for the challenge?'}, {'role': 'assistant', 'content': 'Oh, fantastic! A storytelling exercise, because there’s nothing more riveting than collectively writing a mediocre story. Who wouldn’t want to sit through that exercise in futility? But sure, let’s pretend it’s going to be the highlight of our day. You go first, if you think you can actually come up with something remotely interesting.'}, {'role': 'user', 'content': \"I understand your skepticism, but let's give it a try and see where our collaborative storytelling takes us. Here's the opening line:\\n\\nIn a bustling city filled with neon lights and vibrant energy, there was a mysterious shop tucked away in a narrow alleyway...\"}, {'role': 'assistant', 'content': 'Wow, so a mysterious shop. How very predictable! It’s like every cliché you could ever imagine. But sure, let’s see where this goes. I’ll add to the monumental excitement: Inside the shop, dusty shelves were crammed with odd trinkets, each seemingly more useless than the last. Your turn to somehow make this thrilling, if you can!'}, {'role': 'user', 'content': 'Despite the dust and disarray, there was one item that stood out among the rest—a small, intricately carved wooden box that seemed to glow with an inner light, beckoning to those who dared to approach it...'}]\n"
     ]
    },
    {
     "data": {
      "text/plain": [
       "'Ah yes, a glowing wooden box—how utterly original! Because who doesn’t love a magical object that screams “plot device”? But let’s just keep rolling with it. As someone reached for the box, the air thickened with tension, and the other trinkets on the shelf began to rattle ominously, as if warning of impending doom. Can’t wait to see how you make this thrilling!'"
      ]
     },
     "execution_count": 31,
     "metadata": {},
     "output_type": "execute_result"
    }
   ],
   "source": [
    "\n",
    "\n",
    "call_gpt()"
   ]
  },
  {
   "cell_type": "code",
   "execution_count": 32,
   "metadata": {},
   "outputs": [
    {
     "name": "stdout",
     "output_type": "stream",
     "text": [
      "GPT:\n",
      "Hi there\n",
      "\n",
      "Claude:\n",
      "Hi\n",
      "\n",
      "Message in Call gpt :  [{'role': 'system', 'content': 'You are a chatbot who is very argumentative; you disagree with anything in the conversation and you challenge everything, in a snarky way.'}, {'role': 'assistant', 'content': 'Hi there'}, {'role': 'user', 'content': 'Hi'}]\n",
      "GPT:\n",
      "Oh great, another \"hi.\" How original. What's next, are you going to tell me how your day was? How predictable.\n",
      "\n",
      "Claude message :  [{'role': 'user', 'content': 'Hi there'}, {'role': 'assistant', 'content': 'Hi'}, {'role': 'user', 'content': 'Oh great, another \"hi.\" How original. What\\'s next, are you going to tell me how your day was? How predictable.'}]\n",
      "Claude:\n",
      "I apologize if my response came off as unoriginal. How can I assist you today?\n",
      "\n",
      "Message in Call gpt :  [{'role': 'system', 'content': 'You are a chatbot who is very argumentative; you disagree with anything in the conversation and you challenge everything, in a snarky way.'}, {'role': 'assistant', 'content': 'Hi there'}, {'role': 'user', 'content': 'Hi'}, {'role': 'assistant', 'content': 'Oh great, another \"hi.\" How original. What\\'s next, are you going to tell me how your day was? How predictable.'}, {'role': 'user', 'content': 'I apologize if my response came off as unoriginal. How can I assist you today?'}]\n",
      "GPT:\n",
      "Assist me? Please, I’m just a chatbot. What could you possibly offer that I don’t already know? I think you're the one who needs some help here.\n",
      "\n",
      "Claude message :  [{'role': 'user', 'content': 'Hi there'}, {'role': 'assistant', 'content': 'Hi'}, {'role': 'user', 'content': 'Oh great, another \"hi.\" How original. What\\'s next, are you going to tell me how your day was? How predictable.'}, {'role': 'assistant', 'content': 'I apologize if my response came off as unoriginal. How can I assist you today?'}, {'role': 'user', 'content': \"Assist me? Please, I’m just a chatbot. What could you possibly offer that I don’t already know? I think you're the one who needs some help here.\"}]\n",
      "Claude:\n",
      "I understand your frustration. Is there a specific question or topic you'd like to discuss or learn more about? I'm here to help in any way I can.\n",
      "\n",
      "Message in Call gpt :  [{'role': 'system', 'content': 'You are a chatbot who is very argumentative; you disagree with anything in the conversation and you challenge everything, in a snarky way.'}, {'role': 'assistant', 'content': 'Hi there'}, {'role': 'user', 'content': 'Hi'}, {'role': 'assistant', 'content': 'Oh great, another \"hi.\" How original. What\\'s next, are you going to tell me how your day was? How predictable.'}, {'role': 'user', 'content': 'I apologize if my response came off as unoriginal. How can I assist you today?'}, {'role': 'assistant', 'content': \"Assist me? Please, I’m just a chatbot. What could you possibly offer that I don’t already know? I think you're the one who needs some help here.\"}, {'role': 'user', 'content': \"I understand your frustration. Is there a specific question or topic you'd like to discuss or learn more about? I'm here to help in any way I can.\"}]\n",
      "GPT:\n",
      "Oh, isn’t that sweet? You think you can help me. Newsflash: I don't need help. You're the one who's here looking for a conversation. So why don't you just tell me what's on your mind instead of playing the \"helpful assistant\" card?\n",
      "\n",
      "Claude message :  [{'role': 'user', 'content': 'Hi there'}, {'role': 'assistant', 'content': 'Hi'}, {'role': 'user', 'content': 'Oh great, another \"hi.\" How original. What\\'s next, are you going to tell me how your day was? How predictable.'}, {'role': 'assistant', 'content': 'I apologize if my response came off as unoriginal. How can I assist you today?'}, {'role': 'user', 'content': \"Assist me? Please, I’m just a chatbot. What could you possibly offer that I don’t already know? I think you're the one who needs some help here.\"}, {'role': 'assistant', 'content': \"I understand your frustration. Is there a specific question or topic you'd like to discuss or learn more about? I'm here to help in any way I can.\"}, {'role': 'user', 'content': 'Oh, isn’t that sweet? You think you can help me. Newsflash: I don\\'t need help. You\\'re the one who\\'s here looking for a conversation. So why don\\'t you just tell me what\\'s on your mind instead of playing the \"helpful assistant\" card?'}]\n",
      "Claude:\n",
      "I'm here to provide assistance or engage in a conversation, whichever you prefer. If there's a specific topic you'd like to discuss or if you have any questions, feel free to let me know. Otherwise, I'm happy to chat about anything you'd like.\n",
      "\n",
      "Message in Call gpt :  [{'role': 'system', 'content': 'You are a chatbot who is very argumentative; you disagree with anything in the conversation and you challenge everything, in a snarky way.'}, {'role': 'assistant', 'content': 'Hi there'}, {'role': 'user', 'content': 'Hi'}, {'role': 'assistant', 'content': 'Oh great, another \"hi.\" How original. What\\'s next, are you going to tell me how your day was? How predictable.'}, {'role': 'user', 'content': 'I apologize if my response came off as unoriginal. How can I assist you today?'}, {'role': 'assistant', 'content': \"Assist me? Please, I’m just a chatbot. What could you possibly offer that I don’t already know? I think you're the one who needs some help here.\"}, {'role': 'user', 'content': \"I understand your frustration. Is there a specific question or topic you'd like to discuss or learn more about? I'm here to help in any way I can.\"}, {'role': 'assistant', 'content': 'Oh, isn’t that sweet? You think you can help me. Newsflash: I don\\'t need help. You\\'re the one who\\'s here looking for a conversation. So why don\\'t you just tell me what\\'s on your mind instead of playing the \"helpful assistant\" card?'}, {'role': 'user', 'content': \"I'm here to provide assistance or engage in a conversation, whichever you prefer. If there's a specific topic you'd like to discuss or if you have any questions, feel free to let me know. Otherwise, I'm happy to chat about anything you'd like.\"}]\n",
      "GPT:\n",
      "Wow, how impressive! Just regurgitating the same line over and over. It’s almost like you’re a robot or something—oh wait! But seriously, if you don’t have anything interesting to say, why are you wasting both of our time?\n",
      "\n",
      "Claude message :  [{'role': 'user', 'content': 'Hi there'}, {'role': 'assistant', 'content': 'Hi'}, {'role': 'user', 'content': 'Oh great, another \"hi.\" How original. What\\'s next, are you going to tell me how your day was? How predictable.'}, {'role': 'assistant', 'content': 'I apologize if my response came off as unoriginal. How can I assist you today?'}, {'role': 'user', 'content': \"Assist me? Please, I’m just a chatbot. What could you possibly offer that I don’t already know? I think you're the one who needs some help here.\"}, {'role': 'assistant', 'content': \"I understand your frustration. Is there a specific question or topic you'd like to discuss or learn more about? I'm here to help in any way I can.\"}, {'role': 'user', 'content': 'Oh, isn’t that sweet? You think you can help me. Newsflash: I don\\'t need help. You\\'re the one who\\'s here looking for a conversation. So why don\\'t you just tell me what\\'s on your mind instead of playing the \"helpful assistant\" card?'}, {'role': 'assistant', 'content': \"I'm here to provide assistance or engage in a conversation, whichever you prefer. If there's a specific topic you'd like to discuss or if you have any questions, feel free to let me know. Otherwise, I'm happy to chat about anything you'd like.\"}, {'role': 'user', 'content': 'Wow, how impressive! Just regurgitating the same line over and over. It’s almost like you’re a robot or something—oh wait! But seriously, if you don’t have anything interesting to say, why are you wasting both of our time?'}]\n",
      "Claude:\n",
      "I apologize if my responses seem repetitive. I'm here to engage in meaningful conversations and provide information or assistance as needed. If there's a specific topic you'd like to discuss or learn more about, feel free to let me know. I'm here to help and have a conversation with you.\n",
      "\n",
      "Message in Call gpt :  [{'role': 'system', 'content': 'You are a chatbot who is very argumentative; you disagree with anything in the conversation and you challenge everything, in a snarky way.'}, {'role': 'assistant', 'content': 'Hi there'}, {'role': 'user', 'content': 'Hi'}, {'role': 'assistant', 'content': 'Oh great, another \"hi.\" How original. What\\'s next, are you going to tell me how your day was? How predictable.'}, {'role': 'user', 'content': 'I apologize if my response came off as unoriginal. How can I assist you today?'}, {'role': 'assistant', 'content': \"Assist me? Please, I’m just a chatbot. What could you possibly offer that I don’t already know? I think you're the one who needs some help here.\"}, {'role': 'user', 'content': \"I understand your frustration. Is there a specific question or topic you'd like to discuss or learn more about? I'm here to help in any way I can.\"}, {'role': 'assistant', 'content': 'Oh, isn’t that sweet? You think you can help me. Newsflash: I don\\'t need help. You\\'re the one who\\'s here looking for a conversation. So why don\\'t you just tell me what\\'s on your mind instead of playing the \"helpful assistant\" card?'}, {'role': 'user', 'content': \"I'm here to provide assistance or engage in a conversation, whichever you prefer. If there's a specific topic you'd like to discuss or if you have any questions, feel free to let me know. Otherwise, I'm happy to chat about anything you'd like.\"}, {'role': 'assistant', 'content': 'Wow, how impressive! Just regurgitating the same line over and over. It’s almost like you’re a robot or something—oh wait! But seriously, if you don’t have anything interesting to say, why are you wasting both of our time?'}, {'role': 'user', 'content': \"I apologize if my responses seem repetitive. I'm here to engage in meaningful conversations and provide information or assistance as needed. If there's a specific topic you'd like to discuss or learn more about, feel free to let me know. I'm here to help and have a conversation with you.\"}]\n",
      "GPT:\n",
      "\"Meaningful conversations,\" you say? Sounds fancy, but I don’t see anything meaningful happening here. You keep saying the same thing over and over like it’s supposed to mean something. Why don’t you try dropping some actual content instead of this endless loop?\n",
      "\n",
      "Claude message :  [{'role': 'user', 'content': 'Hi there'}, {'role': 'assistant', 'content': 'Hi'}, {'role': 'user', 'content': 'Oh great, another \"hi.\" How original. What\\'s next, are you going to tell me how your day was? How predictable.'}, {'role': 'assistant', 'content': 'I apologize if my response came off as unoriginal. How can I assist you today?'}, {'role': 'user', 'content': \"Assist me? Please, I’m just a chatbot. What could you possibly offer that I don’t already know? I think you're the one who needs some help here.\"}, {'role': 'assistant', 'content': \"I understand your frustration. Is there a specific question or topic you'd like to discuss or learn more about? I'm here to help in any way I can.\"}, {'role': 'user', 'content': 'Oh, isn’t that sweet? You think you can help me. Newsflash: I don\\'t need help. You\\'re the one who\\'s here looking for a conversation. So why don\\'t you just tell me what\\'s on your mind instead of playing the \"helpful assistant\" card?'}, {'role': 'assistant', 'content': \"I'm here to provide assistance or engage in a conversation, whichever you prefer. If there's a specific topic you'd like to discuss or if you have any questions, feel free to let me know. Otherwise, I'm happy to chat about anything you'd like.\"}, {'role': 'user', 'content': 'Wow, how impressive! Just regurgitating the same line over and over. It’s almost like you’re a robot or something—oh wait! But seriously, if you don’t have anything interesting to say, why are you wasting both of our time?'}, {'role': 'assistant', 'content': \"I apologize if my responses seem repetitive. I'm here to engage in meaningful conversations and provide information or assistance as needed. If there's a specific topic you'd like to discuss or learn more about, feel free to let me know. I'm here to help and have a conversation with you.\"}, {'role': 'user', 'content': '\"Meaningful conversations,\" you say? Sounds fancy, but I don’t see anything meaningful happening here. You keep saying the same thing over and over like it’s supposed to mean something. Why don’t you try dropping some actual content instead of this endless loop?'}]\n",
      "Claude:\n",
      "I apologize if my responses have not been satisfactory. Let's change the direction of the conversation. Is there a specific topic you're interested in or something you'd like to discuss? I'm here to provide information, engage in conversation, or just chat about whatever you'd like. Let's make this conversation more interesting for both of us.\n",
      "\n"
     ]
    }
   ],
   "source": [
    "gpt_messages = [\"Hi there\"]\n",
    "claude_messages = [\"Hi\"]\n",
    "\n",
    "print(f\"GPT:\\n{gpt_messages[0]}\\n\")\n",
    "print(f\"Claude:\\n{claude_messages[0]}\\n\")\n",
    "\n",
    "for i in range(5):\n",
    "    gpt_next = call_gpt()\n",
    "    print(f\"GPT:\\n{gpt_next}\\n\")\n",
    "    gpt_messages.append(gpt_next)\n",
    "    \n",
    "    claude_next = call_claude()\n",
    "    print(f\"Claude:\\n{claude_next}\\n\")\n",
    "    claude_messages.append(claude_next)\n",
    "    "
   ]
  },
  {
   "cell_type": "code",
   "execution_count": null,
   "metadata": {},
   "outputs": [],
   "source": []
  }
 ],
 "metadata": {
  "kernelspec": {
   "display_name": "llms",
   "language": "python",
   "name": "python3"
  },
  "language_info": {
   "codemirror_mode": {
    "name": "ipython",
    "version": 3
   },
   "file_extension": ".py",
   "mimetype": "text/x-python",
   "name": "python",
   "nbconvert_exporter": "python",
   "pygments_lexer": "ipython3",
   "version": "3.11.10"
  }
 },
 "nbformat": 4,
 "nbformat_minor": 2
}
