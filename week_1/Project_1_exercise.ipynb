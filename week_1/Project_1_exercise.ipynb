{
 "cells": [
  {
   "cell_type": "markdown",
   "metadata": {},
   "source": [
    "# Import Libraries"
   ]
  },
  {
   "cell_type": "code",
   "execution_count": 1,
   "metadata": {},
   "outputs": [],
   "source": [
    "import os\n",
    "from dotenv import load_dotenv\n",
    "from IPython.display import Markdown, display, update_display\n",
    "from openai import OpenAI"
   ]
  },
  {
   "cell_type": "markdown",
   "metadata": {},
   "source": [
    "# Set up the Environment Variable"
   ]
  },
  {
   "cell_type": "code",
   "execution_count": 2,
   "metadata": {},
   "outputs": [
    {
     "name": "stdout",
     "output_type": "stream",
     "text": [
      "API key looks good so far\n"
     ]
    }
   ],
   "source": [
    "load_dotenv()\n",
    "\n",
    "api_key = os.getenv('OPENAI_API_KEY')\n",
    "\n",
    "if api_key and api_key.startswith('sk-proj-') and len(api_key)>10:\n",
    "    print(\"API key looks good so far\")\n",
    "else:\n",
    "    print(\"There might be a problem with your API key? Please check the key\")\n"
   ]
  },
  {
   "cell_type": "code",
   "execution_count": 3,
   "metadata": {},
   "outputs": [],
   "source": [
    "MODEL_GPT = 'gpt-4o-mini'\n",
    "MODEL_LLAMA = 'llama3.2'"
   ]
  },
  {
   "cell_type": "code",
   "execution_count": 16,
   "metadata": {},
   "outputs": [],
   "source": [
    "question = \"\"\"\n",
    "Please explain what this code does, and why:\n",
    "  with driver.session() as session:\n",
    "        for index, row in data.iterrows():\n",
    "            # Merge Person node with relationships to category and year\n",
    "            session.run(\n",
    "                \n",
    "                MERGE (p:Person {name: $name})\n",
    "                ON CREATE SET p.startYear = $startYear\n",
    "                ,\n",
    "                name=row['subject'],\n",
    "                startYear=row['startYear']\n",
    "            )\n",
    "Respond in markdown\n",
    "\"\"\""
   ]
  },
  {
   "cell_type": "code",
   "execution_count": 18,
   "metadata": {},
   "outputs": [],
   "source": [
    "openai = OpenAI()\n",
    "\n",
    "def gpt_model(question):\n",
    "    stream = openai.chat.completions.create(\n",
    "        model=MODEL_GPT,\n",
    "        messages = [\n",
    "            {\"role\": \"user\", \"content\": question}\n",
    "        ],\n",
    "        stream=True\n",
    "    )\n",
    "    response = \"\"\n",
    "    display_handle = display(Markdown(\"\"), display_id=True)\n",
    "    for chunk in stream:\n",
    "        response += chunk.choices[0].delta.content or ''\n",
    "        response = response.replace(\"```\",\"\").replace(\"markdown\", \"\")\n",
    "        update_display(Markdown(response), display_id=display_handle.display_id)"
   ]
  },
  {
   "cell_type": "code",
   "execution_count": 19,
   "metadata": {},
   "outputs": [
    {
     "data": {
      "text/markdown": [
       "Certainly! Let's break down the provided code snippet, which appears to be part of a Python script using the Neo4j graph database through the `neo4j` driver.\n",
       "\n",
       "### Explanation of the Code\n",
       "\n",
       "python\n",
       "with driver.session() as session:\n",
       "    for index, row in data.iterrows():\n",
       "        # Merge Person node with relationships to category and year\n",
       "        session.run(\n",
       "            \"\"\"\n",
       "            MERGE (p:Person {name: $name})\n",
       "            ON CREATE SET p.startYear = $startYear\n",
       "            \"\"\",\n",
       "            name=row['subject'],\n",
       "            startYear=row['startYear']\n",
       "        )\n",
       "\n",
       "\n",
       "#### Key Elements of the Code\n",
       "\n",
       "1. **Driver Session Initialization**:\n",
       "   - `with driver.session() as session:`: This line initializes a session with the Neo4j database. The `with` statement ensures that the session is properly closed after exiting the block, handling resource management automatically.\n",
       "\n",
       "2. **Iterate Over Data**:\n",
       "   - `for index, row in data.iterrows():`: This loop iterates over each row of a DataFrame called `data`. The `iterrows()` method returns both the index and the data of each row.\n",
       "\n",
       "3. **Merge Operation**:\n",
       "   - `session.run(...)`: This command is used to execute a Cypher query against the Neo4j database.\n",
       "\n",
       "4. **Cypher Query**:\n",
       "   - Inside `session.run(...)`, the Cypher query performs the following actions:\n",
       "     - `MERGE (p:Person {name: $name})`: This part of the query attempts to find a node with the label `Person` and the property `name` equal to the value of `$name`. If such a node does not exist, it will create one.\n",
       "     - `ON CREATE SET p.startYear = $startYear`: If a new `Person` node is created (i.e., it did not exist before), this clause sets the `startYear` property of that node to the value of `$startYear`.\n",
       "\n",
       "5. **Parameters**:\n",
       "   - `name=row['subject']`: This is a parameter mapping where the `name` variable is set to the value of the 'subject' column of the current row.\n",
       "   - `startYear=row['startYear']`: Similarly, this sets the `startYear` variable to the value of the 'startYear' column of the current row.\n",
       "\n",
       "### Purpose of the Code\n",
       "\n",
       "The purpose of this code is to ensure that a `Person` node corresponding to each entry (or row) in the DataFrame `data` is either created or found in the Neo4j database. If a `Person` node with the specified name already exists, no new node is created; instead, it simply uses the existing one. If the node is created in that iteration, the `startYear` property is assigned immediately.\n",
       "\n",
       "This approach is useful in graph databases to avoid duplicate nodes and ensure that each person has relevant data associated with them. It can be applied in scenarios like importing data, managing relationships, or setting up a knowledge graph.\n",
       "\n",
       "### Summary\n",
       "In summary, this code efficiently handles the merging of `Person` nodes into a Neo4j graph database, ensuring nodes are created only if they do not exist while assigning related properties at the same time."
      ],
      "text/plain": [
       "<IPython.core.display.Markdown object>"
      ]
     },
     "metadata": {},
     "output_type": "display_data"
    }
   ],
   "source": [
    "gpt_model(question)"
   ]
  },
  {
   "cell_type": "markdown",
   "metadata": {},
   "source": [
    "# Using llama"
   ]
  },
  {
   "cell_type": "code",
   "execution_count": 30,
   "metadata": {},
   "outputs": [],
   "source": [
    "# prompts\n",
    "\n",
    "system_prompt = \"You are a helpful technical tutor who answers questions about python code, software engineering, data science and LLMs\"\n",
    "user_prompt = \"Please give a detailed explanation to the following question: \" + question\n"
   ]
  },
  {
   "cell_type": "code",
   "execution_count": 31,
   "metadata": {},
   "outputs": [],
   "source": [
    "# messages\n",
    "\n",
    "messages = [\n",
    "    {\"role\": \"system\", \"content\": system_prompt},\n",
    "    {\"role\": \"user\", \"content\": user_prompt}\n",
    "]"
   ]
  },
  {
   "cell_type": "code",
   "execution_count": null,
   "metadata": {},
   "outputs": [],
   "source": []
  },
  {
   "cell_type": "code",
   "execution_count": 32,
   "metadata": {},
   "outputs": [],
   "source": [
    "payload = {\n",
    "    \"model\": MODEL_LLAMA, \n",
    "    \"messages\": messages, \n",
    "    \"stream\": True\n",
    "}"
   ]
  },
  {
   "cell_type": "code",
   "execution_count": 35,
   "metadata": {},
   "outputs": [
    {
     "data": {
      "text/markdown": [],
      "text/plain": [
       "<IPython.core.display.Markdown object>"
      ]
     },
     "metadata": {},
     "output_type": "display_data"
    },
    {
     "data": {
      "text/markdown": [
       "**Code Explanation**\n",
       "=====================\n",
       "\n",
       "This code snippet appears to be written in Cypher, a query language used for graph databases such as Neo4j. It is designed to merge data from a pandas DataFrame (`data`) into a Neo4j database using the Neo4j Python driver.\n",
       "\n",
       "**Breakdown of the Code**\n",
       "-------------------------\n",
       "\n",
       "Here's a step-by-step explanation:\n",
       "\n",
       "1. **Session Creation**: The code starts by creating a Neo4j session using `driver.session()`. This session is used to execute Cypher queries against the graph database.\n",
       "2. **Iteration over DataFrame Rows**: The `data.iterrows()` method iterates over each row in the pandas DataFrame. Each row represents a single data point, which will be merged into the graph database.\n",
       "\n",
       "**Cypher Query Explanation**\n",
       "-----------------------------\n",
       "\n",
       " Inside the loop, a Cypher query is executed using `session.run()`. This query performs a **merge operation**, which creates a new node (Person) if it doesn't already exist in the database. If it does exist, Neo4j will update its properties instead.\n",
       "\n",
       "The merge query has several components:\n",
       "\n",
       "* `p:Person {name: $name}`: Creates a new Person node with the name from the DataFrame row.\n",
       "* `ON CREATE SET p.startYear = $startYear`: If the node is created (i.e., it didn't exist in the database), sets its start year property to the value from the DataFrame row.\n",
       "\n",
       "The query also passes two variables:\n",
       "\n",
       "* `$name` and `$startYear`, which are placeholders for the actual values from the DataFrame rows. These values will be replaced with the corresponding values when the query is executed.\n",
       "\n",
       "**Example Use Case**\n",
       "--------------------\n",
       "\n",
       "This code snippet could be used in a data integration pipeline, where it merges data from an external source (e.g., a CSV file or another database) into a Neo4j graph database. The resulting graph database can then be queried and analyzed using Cypher queries.\n",
       "\n",
       "**Why this Code?**\n",
       "-----------------\n",
       "\n",
       "The use of graph databases like Neo4j allows for efficient storage and querying of complex relationships between data entities. This code snippet demonstrates how to merge data from an external source into a graph database, creating new nodes and relationships as needed. The choice of Cypher as the query language provides a powerful way to define the merge operation and integrate with the graph database."
      ],
      "text/plain": [
       "<IPython.core.display.Markdown object>"
      ]
     },
     "metadata": {},
     "output_type": "display_data"
    }
   ],
   "source": [
    "import ollama\n",
    "display_handle = display(Markdown(\"\"), display_id=True)\n",
    "response = ollama.chat(model=MODEL_LLAMA, messages=messages)\n",
    "\n",
    "reply = response['message']['content']\n",
    "display(Markdown(reply))\n",
    "# response = response.replace(\"```\",\"\").replace(\"markdown\", \"\")\n",
    "# update_display(Markdown(response), display_id=display_handle.display_id)"
   ]
  },
  {
   "cell_type": "code",
   "execution_count": 28,
   "metadata": {},
   "outputs": [
    {
     "data": {
      "text/plain": [
       "ChatResponse(model='llama3.2', created_at='2024-12-04T09:08:10.374661928Z', done=True, done_reason='stop', total_duration=5865766798, load_duration=28155238, prompt_eval_count=116, prompt_eval_duration=12000000, eval_count=528, eval_duration=5824000000, message=Message(role='assistant', content='**Code Explanation**\\n=====================\\n\\nThis code snippet appears to be written in Cypher, a query language used for Graph Database Management Systems such as Neo4j. It is designed to merge data from an existing database into a Graph Database.\\n\\n### Breakdown of the Code\\n\\n1. `with driver.session() as session:`:\\n   - This line creates a new session with the Neo4j driver.\\n   - The `with` statement ensures that the session is properly closed when it goes out of scope, regardless of whether an exception occurs or not.\\n\\n2. `for index, row in data.iterrows():`:\\n   - This loop iterates over each row in the `data` DataFrame.\\n   - For each row, it processes the corresponding data.\\n\\n3. `session.run(...)`:\\n   - This line executes a Cypher query on the session.\\n   - The query uses a MERGE (merge) statement to create or update nodes in the Graph Database.\\n\\n### Cypher Query Explanation\\n---------------------------\\n\\nThe Cypher query consists of two parts:\\n\\n```cypher\\nMERGE (p:Person {name: $name})\\nON CREATE SET p.startYear = $startYear\\n```\\n\\n- `MERGE`:\\n  - This statement is used to create or update a node in the Graph Database.\\n  - If the node already exists, the query will not throw an error; instead, it will simply return without changes.\\n- `(p:Person {name: $name})`:\\n  - This is a pattern that matches nodes with label `Person` and property `name`.\\n  - The `$name` parameter is replaced by the actual value in each iteration of the loop.\\n- `ON CREATE SET p.startYear = $startYear`:\\n  - If this node does not already exist, this part of the query will be executed.\\n  - It creates a new node with label `Person`, sets its property `name` to `$name`, and sets its property `startYear` to `$startYear`.\\n\\n### Parameters\\n\\nThe Cypher query uses two parameters: `$name` and `$startYear`. These are placeholders for actual values that will be replaced by the data in each iteration of the loop.\\n\\n```python\\n# Merge Person node with relationships to category and year\\nsession.run(\\n    \"\"\"MERGE (p:Person {name: $name})\\n       ON CREATE SET p.startYear = $startYear\"\"\"\\n)\\n```\\n\\nIn this code, `data` is expected to be a Pandas DataFrame where each row contains data for a single \"subject\" with corresponding start year values.', images=None, tool_calls=None))"
      ]
     },
     "execution_count": 28,
     "metadata": {},
     "output_type": "execute_result"
    }
   ],
   "source": [
    "response"
   ]
  },
  {
   "cell_type": "code",
   "execution_count": null,
   "metadata": {},
   "outputs": [],
   "source": []
  }
 ],
 "metadata": {
  "kernelspec": {
   "display_name": "llms",
   "language": "python",
   "name": "python3"
  },
  "language_info": {
   "codemirror_mode": {
    "name": "ipython",
    "version": 3
   },
   "file_extension": ".py",
   "mimetype": "text/x-python",
   "name": "python",
   "nbconvert_exporter": "python",
   "pygments_lexer": "ipython3",
   "version": "3.11.10"
  }
 },
 "nbformat": 4,
 "nbformat_minor": 2
}
